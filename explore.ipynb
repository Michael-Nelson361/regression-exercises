{
 "cells": [
  {
   "cell_type": "markdown",
   "id": "eda3f959-4427-47c3-b07d-1a3dda1064a3",
   "metadata": {},
   "source": [
    "Our Zillow scenario continues:\n",
    "\n",
    "As a Codeup data science graduate, you want to show off your skills to the Zillow data science team in hopes of getting an interview for a position you saw pop up on LinkedIn. You thought it might look impressive to build an end-to-end project in which you use some of their Kaggle data to predict property values using some of their available features; who knows, you might even do some feature engineering to blow them away. Your goal is to predict the values of single unit properties using the observations from 2017.\n",
    "\n",
    "In these exercises, you will run through the stages of exploration as you continue to work toward the above goal. Use **only** your train dataset to explore the relationships between independent variables with other independent variables or independent variables with your target variable."
   ]
  },
  {
   "cell_type": "code",
   "execution_count": null,
   "id": "7bbb7824-1e42-4ef4-b938-ba741cb05ee7",
   "metadata": {},
   "outputs": [],
   "source": []
  },
  {
   "cell_type": "markdown",
   "id": "c1db7f06-789e-40cb-9251-c20fa5c54371",
   "metadata": {},
   "source": [
    "1. [ ] Write a function named `plot_variable_pairs` that accepts a dataframe as input and plots all of the pairwise relationships along with the regression line for each pair."
   ]
  },
  {
   "cell_type": "code",
   "execution_count": null,
   "id": "73870051-6515-4180-85f9-232771ff4ba8",
   "metadata": {},
   "outputs": [],
   "source": []
  },
  {
   "cell_type": "markdown",
   "id": "7b808f26-12da-4531-ac11-3cb19ae3d4b1",
   "metadata": {},
   "source": [
    "2. [ ] Write a function named `plot_categorical_and_continuous_vars` that accepts your dataframe and the name of the columns that hold the continuous and categorical features and outputs 3 different plots for visualizing a categorical variable and a continuous variable."
   ]
  },
  {
   "cell_type": "code",
   "execution_count": null,
   "id": "92dc4677-f463-4e06-96b0-67bce074f5e1",
   "metadata": {},
   "outputs": [],
   "source": []
  },
  {
   "cell_type": "markdown",
   "id": "bc9bf767-8c3d-4c46-a536-45d8c9626298",
   "metadata": {},
   "source": [
    "3. [ ] Save the functions you have written to create visualizations in your `explore.py` file. Rewrite your notebook code so that you are using the functions imported from this file."
   ]
  },
  {
   "cell_type": "code",
   "execution_count": null,
   "id": "e7315a52-ede0-4671-bbc2-288f7ef80e11",
   "metadata": {},
   "outputs": [],
   "source": []
  },
  {
   "cell_type": "markdown",
   "id": "99a43574-088c-4120-af35-7bac27885ce9",
   "metadata": {},
   "source": [
    "4. [ ] Use the functions you created above to explore your Zillow train dataset in your `explore.ipynb` notebook."
   ]
  },
  {
   "cell_type": "code",
   "execution_count": null,
   "id": "af6bcace-9af9-4c81-80a0-cdac0c0d9035",
   "metadata": {},
   "outputs": [],
   "source": []
  },
  {
   "cell_type": "markdown",
   "id": "257c2e4b-0d41-4d97-8e06-fe72d14807b7",
   "metadata": {},
   "source": [
    "5. [ ] Come up with some initial hypotheses based on your goal of predicting property value."
   ]
  },
  {
   "cell_type": "code",
   "execution_count": null,
   "id": "22666b67-1067-424f-a78d-8239321f68cb",
   "metadata": {},
   "outputs": [],
   "source": []
  },
  {
   "cell_type": "markdown",
   "id": "ddef4919-f0ba-47fd-b9c6-9cdf0dba94c1",
   "metadata": {},
   "source": [
    "6. [ ] Visualize all combinations of variables in some way."
   ]
  },
  {
   "cell_type": "code",
   "execution_count": null,
   "id": "d5087592-206c-40a3-a307-ea156d89f067",
   "metadata": {},
   "outputs": [],
   "source": []
  },
  {
   "cell_type": "markdown",
   "id": "a2f809f0-10e6-4571-8912-23952904cbff",
   "metadata": {},
   "source": [
    "7. [ ] Run the appropriate statistical tests where needed."
   ]
  },
  {
   "cell_type": "code",
   "execution_count": null,
   "id": "bae82d37-e6df-444f-a9f0-bae536fae919",
   "metadata": {},
   "outputs": [],
   "source": []
  },
  {
   "cell_type": "markdown",
   "id": "6dc1947e-d887-461e-add3-d13f368f2adb",
   "metadata": {},
   "source": [
    "8. [ ] What independent variables are correlated with the dependent variable, home value?"
   ]
  },
  {
   "cell_type": "code",
   "execution_count": null,
   "id": "9b688dbf-4b1c-42d4-ac27-cdcbee2fd925",
   "metadata": {},
   "outputs": [],
   "source": []
  },
  {
   "cell_type": "markdown",
   "id": "1f45377f-9e6f-4c17-884f-3ae3d1348611",
   "metadata": {},
   "source": [
    "9. [ ] Which independent variables are correlated with other independent variables (bedrooms, bathrooms, year built, square feet)?"
   ]
  },
  {
   "cell_type": "code",
   "execution_count": null,
   "id": "d2e68b04-822d-474e-afe6-00be231716ea",
   "metadata": {},
   "outputs": [],
   "source": []
  },
  {
   "cell_type": "markdown",
   "id": "a24fadf5-14ee-46ba-9158-56eef605164d",
   "metadata": {},
   "source": [
    "10. [ ] Make sure to document your takeaways from visualizations and statistical tests as well as the decisions you make throughout your process."
   ]
  },
  {
   "cell_type": "code",
   "execution_count": null,
   "id": "db822530-0728-4bf9-94da-1a01706aa481",
   "metadata": {},
   "outputs": [],
   "source": []
  },
  {
   "cell_type": "markdown",
   "id": "ac50fde8-30ba-45d2-8ef5-59a2a8718d8b",
   "metadata": {},
   "source": [
    "11. [ ] Explore your dataset with any other visualizations you think will be helpful.\n"
   ]
  },
  {
   "cell_type": "code",
   "execution_count": null,
   "id": "6d1117a8-e364-4b86-b42d-8cd6b78d81ad",
   "metadata": {},
   "outputs": [],
   "source": []
  },
  {
   "cell_type": "markdown",
   "id": "fdb5ca07-891b-4db8-9f46-280d2102b8d7",
   "metadata": {},
   "source": [
    "## Bonus Exercise\n",
    "\n",
    "1. [ ] In a separate notebook called `explore_mall`, use the functions you have developed in this exercise with the `mall_customers` dataset in the Codeup database server. You will need to write a sql query to acquire your data. Make `spending_score` your target variable."
   ]
  },
  {
   "cell_type": "code",
   "execution_count": null,
   "id": "17011d01-3c03-42d9-962a-cb2489391c51",
   "metadata": {},
   "outputs": [],
   "source": []
  }
 ],
 "metadata": {
  "kernelspec": {
   "display_name": "Python 3 (ipykernel)",
   "language": "python",
   "name": "python3"
  },
  "language_info": {
   "codemirror_mode": {
    "name": "ipython",
    "version": 3
   },
   "file_extension": ".py",
   "mimetype": "text/x-python",
   "name": "python",
   "nbconvert_exporter": "python",
   "pygments_lexer": "ipython3",
   "version": "3.11.5"
  }
 },
 "nbformat": 4,
 "nbformat_minor": 5
}
