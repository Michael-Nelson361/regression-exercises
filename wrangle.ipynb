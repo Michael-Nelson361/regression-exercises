{
 "cells": [
  {
   "cell_type": "markdown",
   "id": "0e9504f4-5478-41a0-8b9b-e1b0593139e5",
   "metadata": {},
   "source": [
    "Let's set up an example scenario as perspective for our regression exercises using the Zillow dataset.\n",
    "\n",
    "As a Codeup data science graduate, you want to show off your skills to the Zillow data science team in hopes of getting an interview for a position you saw pop up on LinkedIn. You thought it might look impressive to build an end-to-end project in which you use some of their Kaggle data to predict property values using some of their available features; who knows, you might even do some feature engineering to blow them away. Your goal is to predict the values of single unit properties using the observations from 2017.\n",
    "\n",
    "In these exercises, you will complete the first step toward the above goal: acquire and prepare the necessary Zillow data from the zillow database in the Codeup database server."
   ]
  },
  {
   "cell_type": "code",
   "execution_count": 3,
   "id": "ce44ab0c-dbf8-4869-9a17-63fe4943697c",
   "metadata": {
    "tags": []
   },
   "outputs": [],
   "source": [
    "# import necessary libraries\n",
    "import pandas as pd\n",
    "import numpy as np\n",
    "import os\n",
    "from tqdm import tqdm\n",
    "\n",
    "# import personal env file\n",
    "import env"
   ]
  },
  {
   "cell_type": "code",
   "execution_count": 4,
   "id": "8636cec9-3160-4155-a94e-96d0506d52da",
   "metadata": {
    "tags": []
   },
   "outputs": [],
   "source": [
    "# Use personally developed function to create a wrangle.py file\n",
    "# WARNING: FUNCTION WILL OVERWRITE ANY 'wrangle.py' FILE THAT EXISTS\n",
    "env.deploy_wrangle()"
   ]
  },
  {
   "cell_type": "code",
   "execution_count": 5,
   "id": "3b1ccdee-7f0e-4f26-b73e-2b0c730b9ebc",
   "metadata": {
    "tags": []
   },
   "outputs": [],
   "source": [
    "# import newly built wrangle file\n",
    "import wrangle as w"
   ]
  },
  {
   "cell_type": "code",
   "execution_count": 6,
   "id": "b43c4b82-3dad-44b5-8c2e-6bb569601f39",
   "metadata": {
    "tags": []
   },
   "outputs": [],
   "source": [
    "# create write_contents\n",
    "# write_contents will hold functions I'm going to add to wrangle.py\n",
    "write_contents = []"
   ]
  },
  {
   "cell_type": "markdown",
   "id": "b44522fc-97f8-4683-bd48-bc4538681c2b",
   "metadata": {},
   "source": [
    "1. [x] Acquire `bedroomcnt`, `bathroomcnt`, `calculatedfinishedsquarefeet`, `taxvaluedollarcnt`, `yearbuilt`, `taxamount`, and `fips` from the `zillow` database for all 'Single Family Residential' properties."
   ]
  },
  {
   "cell_type": "markdown",
   "id": "598f0b7b-24a9-4d3b-96cc-7509a724b998",
   "metadata": {
    "tags": []
   },
   "source": [
    "- [x] Use MySQL Workbench to isolate the necessary dataset"
   ]
  },
  {
   "cell_type": "code",
   "execution_count": 9,
   "id": "75d333a9-c150-40ef-8619-e1f5de3aa53a",
   "metadata": {
    "tags": []
   },
   "outputs": [],
   "source": [
    "# build query\n",
    "query = \"\"\"\n",
    "select bedroomcnt, bathroomcnt, calculatedfinishedsquarefeet, taxvaluedollarcnt, yearbuilt, taxamount, fips\n",
    "from propertylandusetype\n",
    "\tjoin properties_2017\n",
    "\t\tusing (propertylandusetypeid)\n",
    "WHERE propertylandusedesc = (\"Single Family Residential\")\n",
    "\"\"\""
   ]
  },
  {
   "cell_type": "code",
   "execution_count": 10,
   "id": "5141a065-cd2e-4157-88bc-bc99fffda416",
   "metadata": {
    "tags": []
   },
   "outputs": [],
   "source": [
    "# use env file to get database url\n",
    "url = env.get_db_url('zillow')"
   ]
  },
  {
   "cell_type": "code",
   "execution_count": 11,
   "id": "77d9430f-512b-4800-8b32-10b6a3a2d963",
   "metadata": {
    "tags": []
   },
   "outputs": [],
   "source": [
    "# use pandas SQL query command to get the DataFrame\n",
    "df = pd.read_sql(query,url)"
   ]
  },
  {
   "cell_type": "code",
   "execution_count": 12,
   "id": "32de0380-6261-43ed-a1cf-fdd319949243",
   "metadata": {
    "tags": []
   },
   "outputs": [
    {
     "data": {
      "text/html": [
       "<div>\n",
       "<style scoped>\n",
       "    .dataframe tbody tr th:only-of-type {\n",
       "        vertical-align: middle;\n",
       "    }\n",
       "\n",
       "    .dataframe tbody tr th {\n",
       "        vertical-align: top;\n",
       "    }\n",
       "\n",
       "    .dataframe thead th {\n",
       "        text-align: right;\n",
       "    }\n",
       "</style>\n",
       "<table border=\"1\" class=\"dataframe\">\n",
       "  <thead>\n",
       "    <tr style=\"text-align: right;\">\n",
       "      <th></th>\n",
       "      <th>bedroomcnt</th>\n",
       "      <th>bathroomcnt</th>\n",
       "      <th>calculatedfinishedsquarefeet</th>\n",
       "      <th>taxvaluedollarcnt</th>\n",
       "      <th>yearbuilt</th>\n",
       "      <th>taxamount</th>\n",
       "      <th>fips</th>\n",
       "    </tr>\n",
       "  </thead>\n",
       "  <tbody>\n",
       "    <tr>\n",
       "      <th>0</th>\n",
       "      <td>0.0</td>\n",
       "      <td>0.0</td>\n",
       "      <td>NaN</td>\n",
       "      <td>27516.0</td>\n",
       "      <td>NaN</td>\n",
       "      <td>NaN</td>\n",
       "      <td>6037.0</td>\n",
       "    </tr>\n",
       "    <tr>\n",
       "      <th>1</th>\n",
       "      <td>0.0</td>\n",
       "      <td>0.0</td>\n",
       "      <td>NaN</td>\n",
       "      <td>10.0</td>\n",
       "      <td>NaN</td>\n",
       "      <td>NaN</td>\n",
       "      <td>6037.0</td>\n",
       "    </tr>\n",
       "    <tr>\n",
       "      <th>2</th>\n",
       "      <td>0.0</td>\n",
       "      <td>0.0</td>\n",
       "      <td>NaN</td>\n",
       "      <td>10.0</td>\n",
       "      <td>NaN</td>\n",
       "      <td>NaN</td>\n",
       "      <td>6037.0</td>\n",
       "    </tr>\n",
       "    <tr>\n",
       "      <th>3</th>\n",
       "      <td>0.0</td>\n",
       "      <td>0.0</td>\n",
       "      <td>NaN</td>\n",
       "      <td>2108.0</td>\n",
       "      <td>NaN</td>\n",
       "      <td>174.21</td>\n",
       "      <td>6037.0</td>\n",
       "    </tr>\n",
       "    <tr>\n",
       "      <th>4</th>\n",
       "      <td>4.0</td>\n",
       "      <td>2.0</td>\n",
       "      <td>3633.0</td>\n",
       "      <td>296425.0</td>\n",
       "      <td>2005.0</td>\n",
       "      <td>6941.39</td>\n",
       "      <td>6037.0</td>\n",
       "    </tr>\n",
       "  </tbody>\n",
       "</table>\n",
       "</div>"
      ],
      "text/plain": [
       "   bedroomcnt  bathroomcnt  calculatedfinishedsquarefeet  taxvaluedollarcnt  \\\n",
       "0         0.0          0.0                           NaN            27516.0   \n",
       "1         0.0          0.0                           NaN               10.0   \n",
       "2         0.0          0.0                           NaN               10.0   \n",
       "3         0.0          0.0                           NaN             2108.0   \n",
       "4         4.0          2.0                        3633.0           296425.0   \n",
       "\n",
       "   yearbuilt  taxamount    fips  \n",
       "0        NaN        NaN  6037.0  \n",
       "1        NaN        NaN  6037.0  \n",
       "2        NaN        NaN  6037.0  \n",
       "3        NaN     174.21  6037.0  \n",
       "4     2005.0    6941.39  6037.0  "
      ]
     },
     "execution_count": 12,
     "metadata": {},
     "output_type": "execute_result"
    }
   ],
   "source": [
    "df.head()"
   ]
  },
  {
   "cell_type": "code",
   "execution_count": 13,
   "id": "2fa0b720-7008-4944-b0dc-38140c05b419",
   "metadata": {
    "tags": []
   },
   "outputs": [
    {
     "name": "stdout",
     "output_type": "stream",
     "text": [
      "Reading from file...\n"
     ]
    },
    {
     "data": {
      "text/html": [
       "<div>\n",
       "<style scoped>\n",
       "    .dataframe tbody tr th:only-of-type {\n",
       "        vertical-align: middle;\n",
       "    }\n",
       "\n",
       "    .dataframe tbody tr th {\n",
       "        vertical-align: top;\n",
       "    }\n",
       "\n",
       "    .dataframe thead th {\n",
       "        text-align: right;\n",
       "    }\n",
       "</style>\n",
       "<table border=\"1\" class=\"dataframe\">\n",
       "  <thead>\n",
       "    <tr style=\"text-align: right;\">\n",
       "      <th></th>\n",
       "      <th>bedroomcnt</th>\n",
       "      <th>bathroomcnt</th>\n",
       "      <th>calculatedfinishedsquarefeet</th>\n",
       "      <th>taxvaluedollarcnt</th>\n",
       "      <th>yearbuilt</th>\n",
       "      <th>taxamount</th>\n",
       "      <th>fips</th>\n",
       "    </tr>\n",
       "  </thead>\n",
       "  <tbody>\n",
       "    <tr>\n",
       "      <th>0</th>\n",
       "      <td>0.0</td>\n",
       "      <td>0.0</td>\n",
       "      <td>NaN</td>\n",
       "      <td>27516.0</td>\n",
       "      <td>NaN</td>\n",
       "      <td>NaN</td>\n",
       "      <td>6037.0</td>\n",
       "    </tr>\n",
       "    <tr>\n",
       "      <th>1</th>\n",
       "      <td>0.0</td>\n",
       "      <td>0.0</td>\n",
       "      <td>NaN</td>\n",
       "      <td>10.0</td>\n",
       "      <td>NaN</td>\n",
       "      <td>NaN</td>\n",
       "      <td>6037.0</td>\n",
       "    </tr>\n",
       "    <tr>\n",
       "      <th>2</th>\n",
       "      <td>0.0</td>\n",
       "      <td>0.0</td>\n",
       "      <td>NaN</td>\n",
       "      <td>10.0</td>\n",
       "      <td>NaN</td>\n",
       "      <td>NaN</td>\n",
       "      <td>6037.0</td>\n",
       "    </tr>\n",
       "    <tr>\n",
       "      <th>3</th>\n",
       "      <td>0.0</td>\n",
       "      <td>0.0</td>\n",
       "      <td>NaN</td>\n",
       "      <td>2108.0</td>\n",
       "      <td>NaN</td>\n",
       "      <td>174.21</td>\n",
       "      <td>6037.0</td>\n",
       "    </tr>\n",
       "    <tr>\n",
       "      <th>4</th>\n",
       "      <td>4.0</td>\n",
       "      <td>2.0</td>\n",
       "      <td>3633.0</td>\n",
       "      <td>296425.0</td>\n",
       "      <td>2005.0</td>\n",
       "      <td>6941.39</td>\n",
       "      <td>6037.0</td>\n",
       "    </tr>\n",
       "    <tr>\n",
       "      <th>...</th>\n",
       "      <td>...</td>\n",
       "      <td>...</td>\n",
       "      <td>...</td>\n",
       "      <td>...</td>\n",
       "      <td>...</td>\n",
       "      <td>...</td>\n",
       "      <td>...</td>\n",
       "    </tr>\n",
       "    <tr>\n",
       "      <th>2152858</th>\n",
       "      <td>4.0</td>\n",
       "      <td>3.0</td>\n",
       "      <td>2262.0</td>\n",
       "      <td>960756.0</td>\n",
       "      <td>2015.0</td>\n",
       "      <td>13494.52</td>\n",
       "      <td>6059.0</td>\n",
       "    </tr>\n",
       "    <tr>\n",
       "      <th>2152859</th>\n",
       "      <td>4.0</td>\n",
       "      <td>4.5</td>\n",
       "      <td>3127.0</td>\n",
       "      <td>536061.0</td>\n",
       "      <td>2014.0</td>\n",
       "      <td>6244.16</td>\n",
       "      <td>6059.0</td>\n",
       "    </tr>\n",
       "    <tr>\n",
       "      <th>2152860</th>\n",
       "      <td>0.0</td>\n",
       "      <td>0.0</td>\n",
       "      <td>NaN</td>\n",
       "      <td>208057.0</td>\n",
       "      <td>NaN</td>\n",
       "      <td>5783.88</td>\n",
       "      <td>6059.0</td>\n",
       "    </tr>\n",
       "    <tr>\n",
       "      <th>2152861</th>\n",
       "      <td>3.0</td>\n",
       "      <td>2.5</td>\n",
       "      <td>1974.0</td>\n",
       "      <td>424353.0</td>\n",
       "      <td>2015.0</td>\n",
       "      <td>5302.70</td>\n",
       "      <td>6059.0</td>\n",
       "    </tr>\n",
       "    <tr>\n",
       "      <th>2152862</th>\n",
       "      <td>4.0</td>\n",
       "      <td>4.0</td>\n",
       "      <td>2110.0</td>\n",
       "      <td>554009.0</td>\n",
       "      <td>2014.0</td>\n",
       "      <td>6761.20</td>\n",
       "      <td>6037.0</td>\n",
       "    </tr>\n",
       "  </tbody>\n",
       "</table>\n",
       "<p>2152863 rows × 7 columns</p>\n",
       "</div>"
      ],
      "text/plain": [
       "         bedroomcnt  bathroomcnt  calculatedfinishedsquarefeet  \\\n",
       "0               0.0          0.0                           NaN   \n",
       "1               0.0          0.0                           NaN   \n",
       "2               0.0          0.0                           NaN   \n",
       "3               0.0          0.0                           NaN   \n",
       "4               4.0          2.0                        3633.0   \n",
       "...             ...          ...                           ...   \n",
       "2152858         4.0          3.0                        2262.0   \n",
       "2152859         4.0          4.5                        3127.0   \n",
       "2152860         0.0          0.0                           NaN   \n",
       "2152861         3.0          2.5                        1974.0   \n",
       "2152862         4.0          4.0                        2110.0   \n",
       "\n",
       "         taxvaluedollarcnt  yearbuilt  taxamount    fips  \n",
       "0                  27516.0        NaN        NaN  6037.0  \n",
       "1                     10.0        NaN        NaN  6037.0  \n",
       "2                     10.0        NaN        NaN  6037.0  \n",
       "3                   2108.0        NaN     174.21  6037.0  \n",
       "4                 296425.0     2005.0    6941.39  6037.0  \n",
       "...                    ...        ...        ...     ...  \n",
       "2152858           960756.0     2015.0   13494.52  6059.0  \n",
       "2152859           536061.0     2014.0    6244.16  6059.0  \n",
       "2152860           208057.0        NaN    5783.88  6059.0  \n",
       "2152861           424353.0     2015.0    5302.70  6059.0  \n",
       "2152862           554009.0     2014.0    6761.20  6037.0  \n",
       "\n",
       "[2152863 rows x 7 columns]"
      ]
     },
     "execution_count": 13,
     "metadata": {},
     "output_type": "execute_result"
    }
   ],
   "source": [
    "w.check_file_exists('zillow.csv',query,url)"
   ]
  },
  {
   "cell_type": "code",
   "execution_count": 14,
   "id": "a27a90d3-1728-4bad-9931-33b5c7aac353",
   "metadata": {
    "tags": []
   },
   "outputs": [],
   "source": [
    "# create acquire function to prepare this nicely\n",
    "def acquire_zillow():\n",
    "    \"\"\"\n",
    "    Function to pull in zillow data. Returns a DataFrame. Also builds local csv file of the dataset.\n",
    "    \n",
    "    Parameters:\n",
    "    -----------\n",
    "    none\n",
    "    \n",
    "    \"\"\"\n",
    "    # build query\n",
    "    query = \"\"\"\n",
    "select \n",
    "    bedroomcnt,\n",
    "    bathroomcnt,\n",
    "    calculatedfinishedsquarefeet,\n",
    "    taxvaluedollarcnt,\n",
    "    yearbuilt,\n",
    "    taxamount,\n",
    "    fips\n",
    "from properties_2017\n",
    "left join propertylandusetype\n",
    "    using(propertylandusetypeid)\n",
    "where propertylandusedesc = 'Single Family Residential'\n",
    "    \"\"\"\n",
    "    \n",
    "    # use env file to get database url\n",
    "    url = env.get_db_url('zillow')\n",
    "    filename = 'zillow.csv'\n",
    "    \n",
    "    df = w.check_file_exists(filename,query,url)\n",
    "    \n",
    "    return df"
   ]
  },
  {
   "cell_type": "code",
   "execution_count": 15,
   "id": "81092771-be53-44ae-9cd2-e818cabf62e2",
   "metadata": {
    "tags": []
   },
   "outputs": [
    {
     "data": {
      "text/plain": [
       "[]"
      ]
     },
     "execution_count": 15,
     "metadata": {},
     "output_type": "execute_result"
    }
   ],
   "source": [
    "# erase the df and start over to check acquire_zillow function\n",
    "df = []\n",
    "df"
   ]
  },
  {
   "cell_type": "code",
   "execution_count": 16,
   "id": "e5ddaee6-793f-4654-a3be-0713a19e9bef",
   "metadata": {
    "tags": []
   },
   "outputs": [
    {
     "name": "stdout",
     "output_type": "stream",
     "text": [
      "Reading from file...\n"
     ]
    },
    {
     "data": {
      "text/html": [
       "<div>\n",
       "<style scoped>\n",
       "    .dataframe tbody tr th:only-of-type {\n",
       "        vertical-align: middle;\n",
       "    }\n",
       "\n",
       "    .dataframe tbody tr th {\n",
       "        vertical-align: top;\n",
       "    }\n",
       "\n",
       "    .dataframe thead th {\n",
       "        text-align: right;\n",
       "    }\n",
       "</style>\n",
       "<table border=\"1\" class=\"dataframe\">\n",
       "  <thead>\n",
       "    <tr style=\"text-align: right;\">\n",
       "      <th></th>\n",
       "      <th>nunique</th>\n",
       "      <th>dtypes</th>\n",
       "      <th>isnull</th>\n",
       "      <th>769580</th>\n",
       "    </tr>\n",
       "  </thead>\n",
       "  <tbody>\n",
       "    <tr>\n",
       "      <th>bedroomcnt</th>\n",
       "      <td>19</td>\n",
       "      <td>float64</td>\n",
       "      <td>11</td>\n",
       "      <td>4.00</td>\n",
       "    </tr>\n",
       "    <tr>\n",
       "      <th>bathroomcnt</th>\n",
       "      <td>38</td>\n",
       "      <td>float64</td>\n",
       "      <td>11</td>\n",
       "      <td>3.00</td>\n",
       "    </tr>\n",
       "    <tr>\n",
       "      <th>calculatedfinishedsquarefeet</th>\n",
       "      <td>10580</td>\n",
       "      <td>float64</td>\n",
       "      <td>8484</td>\n",
       "      <td>1556.00</td>\n",
       "    </tr>\n",
       "    <tr>\n",
       "      <th>taxvaluedollarcnt</th>\n",
       "      <td>592269</td>\n",
       "      <td>float64</td>\n",
       "      <td>493</td>\n",
       "      <td>434000.00</td>\n",
       "    </tr>\n",
       "    <tr>\n",
       "      <th>yearbuilt</th>\n",
       "      <td>153</td>\n",
       "      <td>float64</td>\n",
       "      <td>9337</td>\n",
       "      <td>1958.00</td>\n",
       "    </tr>\n",
       "    <tr>\n",
       "      <th>taxamount</th>\n",
       "      <td>918838</td>\n",
       "      <td>float64</td>\n",
       "      <td>4442</td>\n",
       "      <td>5451.32</td>\n",
       "    </tr>\n",
       "    <tr>\n",
       "      <th>fips</th>\n",
       "      <td>3</td>\n",
       "      <td>float64</td>\n",
       "      <td>0</td>\n",
       "      <td>6037.00</td>\n",
       "    </tr>\n",
       "  </tbody>\n",
       "</table>\n",
       "</div>"
      ],
      "text/plain": [
       "                              nunique   dtypes  isnull     769580\n",
       "bedroomcnt                         19  float64      11       4.00\n",
       "bathroomcnt                        38  float64      11       3.00\n",
       "calculatedfinishedsquarefeet    10580  float64    8484    1556.00\n",
       "taxvaluedollarcnt              592269  float64     493  434000.00\n",
       "yearbuilt                         153  float64    9337    1958.00\n",
       "taxamount                      918838  float64    4442    5451.32\n",
       "fips                                3  float64       0    6037.00"
      ]
     },
     "execution_count": 16,
     "metadata": {},
     "output_type": "execute_result"
    }
   ],
   "source": [
    "df = acquire_zillow()\n",
    "w.df_info(df)"
   ]
  },
  {
   "cell_type": "code",
   "execution_count": 17,
   "id": "8c2c4fc3-3818-48bb-83c8-2cfb549a54b3",
   "metadata": {
    "tags": []
   },
   "outputs": [],
   "source": [
    "# append the newly built function to write_contents\n",
    "write_contents.append('''\n",
    "# create acquire function to prepare this nicely\n",
    "def acquire_zillow():\n",
    "    \"\"\"\n",
    "    Function to pull in zillow data. Returns a DataFrame. Also builds local csv file of the dataset.\n",
    "    \n",
    "    Parameters:\n",
    "    -----------\n",
    "    none\n",
    "    \n",
    "    \"\"\"\n",
    "    # build query\n",
    "    query = \"\"\"\n",
    "select \n",
    "    bedroomcnt,\n",
    "    bathroomcnt,\n",
    "    calculatedfinishedsquarefeet,\n",
    "    taxvaluedollarcnt,\n",
    "    yearbuilt,\n",
    "    taxamount,\n",
    "    fips\n",
    "from properties_2017\n",
    "left join propertylandusetype\n",
    "    using(propertylandusetypeid)\n",
    "where propertylandusedesc = 'Single Family Residential'\n",
    "\n",
    "    \"\"\"\n",
    "    \n",
    "    # use env file to get database url\n",
    "    url = env.get_db_url('zillow')\n",
    "    filename = 'zillow.csv'\n",
    "    \n",
    "    df = w.check_file_exists(filename,query,url)\n",
    "    \n",
    "    return df\n",
    "''')"
   ]
  },
  {
   "cell_type": "markdown",
   "id": "55dd10a4-0035-49bc-a202-e7563224e787",
   "metadata": {},
   "source": [
    "2. [x] Using your acquired Zillow data, walk through the summarization and cleaning steps in your `wrangle.ipynb` file like we did above. You may handle the missing values however you feel is appropriate and meaningful; remember to document your process and decisions using markdown and code commenting where helpful."
   ]
  },
  {
   "cell_type": "code",
   "execution_count": 19,
   "id": "7cb3dbbb-b25a-41b8-b956-9ebe1e290567",
   "metadata": {},
   "outputs": [
    {
     "data": {
      "text/html": [
       "<div>\n",
       "<style scoped>\n",
       "    .dataframe tbody tr th:only-of-type {\n",
       "        vertical-align: middle;\n",
       "    }\n",
       "\n",
       "    .dataframe tbody tr th {\n",
       "        vertical-align: top;\n",
       "    }\n",
       "\n",
       "    .dataframe thead th {\n",
       "        text-align: right;\n",
       "    }\n",
       "</style>\n",
       "<table border=\"1\" class=\"dataframe\">\n",
       "  <thead>\n",
       "    <tr style=\"text-align: right;\">\n",
       "      <th></th>\n",
       "      <th>nunique</th>\n",
       "      <th>dtypes</th>\n",
       "      <th>isnull</th>\n",
       "      <th>422358</th>\n",
       "      <th>1465199</th>\n",
       "      <th>100471</th>\n",
       "    </tr>\n",
       "  </thead>\n",
       "  <tbody>\n",
       "    <tr>\n",
       "      <th>bedroomcnt</th>\n",
       "      <td>19</td>\n",
       "      <td>float64</td>\n",
       "      <td>11</td>\n",
       "      <td>3.00</td>\n",
       "      <td>4.00</td>\n",
       "      <td>4.00</td>\n",
       "    </tr>\n",
       "    <tr>\n",
       "      <th>bathroomcnt</th>\n",
       "      <td>38</td>\n",
       "      <td>float64</td>\n",
       "      <td>11</td>\n",
       "      <td>1.00</td>\n",
       "      <td>2.50</td>\n",
       "      <td>3.00</td>\n",
       "    </tr>\n",
       "    <tr>\n",
       "      <th>calculatedfinishedsquarefeet</th>\n",
       "      <td>10580</td>\n",
       "      <td>float64</td>\n",
       "      <td>8484</td>\n",
       "      <td>1064.00</td>\n",
       "      <td>2178.00</td>\n",
       "      <td>2549.00</td>\n",
       "    </tr>\n",
       "    <tr>\n",
       "      <th>taxvaluedollarcnt</th>\n",
       "      <td>592269</td>\n",
       "      <td>float64</td>\n",
       "      <td>493</td>\n",
       "      <td>57347.00</td>\n",
       "      <td>96113.00</td>\n",
       "      <td>279955.00</td>\n",
       "    </tr>\n",
       "    <tr>\n",
       "      <th>yearbuilt</th>\n",
       "      <td>153</td>\n",
       "      <td>float64</td>\n",
       "      <td>9337</td>\n",
       "      <td>1954.00</td>\n",
       "      <td>1964.00</td>\n",
       "      <td>1926.00</td>\n",
       "    </tr>\n",
       "    <tr>\n",
       "      <th>taxamount</th>\n",
       "      <td>918838</td>\n",
       "      <td>float64</td>\n",
       "      <td>4442</td>\n",
       "      <td>1458.97</td>\n",
       "      <td>1037.78</td>\n",
       "      <td>3578.95</td>\n",
       "    </tr>\n",
       "    <tr>\n",
       "      <th>fips</th>\n",
       "      <td>3</td>\n",
       "      <td>float64</td>\n",
       "      <td>0</td>\n",
       "      <td>6037.00</td>\n",
       "      <td>6111.00</td>\n",
       "      <td>6037.00</td>\n",
       "    </tr>\n",
       "  </tbody>\n",
       "</table>\n",
       "</div>"
      ],
      "text/plain": [
       "                              nunique   dtypes  isnull    422358   1465199  \\\n",
       "bedroomcnt                         19  float64      11      3.00      4.00   \n",
       "bathroomcnt                        38  float64      11      1.00      2.50   \n",
       "calculatedfinishedsquarefeet    10580  float64    8484   1064.00   2178.00   \n",
       "taxvaluedollarcnt              592269  float64     493  57347.00  96113.00   \n",
       "yearbuilt                         153  float64    9337   1954.00   1964.00   \n",
       "taxamount                      918838  float64    4442   1458.97   1037.78   \n",
       "fips                                3  float64       0   6037.00   6111.00   \n",
       "\n",
       "                                 100471  \n",
       "bedroomcnt                         4.00  \n",
       "bathroomcnt                        3.00  \n",
       "calculatedfinishedsquarefeet    2549.00  \n",
       "taxvaluedollarcnt             279955.00  \n",
       "yearbuilt                       1926.00  \n",
       "taxamount                       3578.95  \n",
       "fips                            6037.00  "
      ]
     },
     "execution_count": 19,
     "metadata": {},
     "output_type": "execute_result"
    }
   ],
   "source": [
    "# check out the df using a personal function\n",
    "w.df_info(df,samples=3)"
   ]
  },
  {
   "cell_type": "code",
   "execution_count": 20,
   "id": "13e76911-ec36-4fb6-97fe-17e541b0c705",
   "metadata": {
    "tags": []
   },
   "outputs": [
    {
     "data": {
      "text/plain": [
       "bedroomcnt                      0.001%\n",
       "bathroomcnt                     0.001%\n",
       "calculatedfinishedsquarefeet    0.394%\n",
       "taxvaluedollarcnt               0.023%\n",
       "yearbuilt                       0.434%\n",
       "taxamount                       0.206%\n",
       "fips                              0.0%\n",
       "dtype: object"
      ]
     },
     "execution_count": 20,
     "metadata": {},
     "output_type": "execute_result"
    }
   ],
   "source": [
    "# Use isnull().mean() to get percentage ratios\n",
    "round(df.isnull().mean() * 100,3).astype(str)+'%'"
   ]
  },
  {
   "cell_type": "markdown",
   "id": "10e53f02-2739-422a-b49c-56ec37b3ee19",
   "metadata": {
    "tags": []
   },
   "source": [
    "Considering the ridiculously small proportion of nulls, I'm going to define a rule that if the percent is below 0.01% (or 0.0001, if I'm remembering that properly) then drop the nulls of that column"
   ]
  },
  {
   "cell_type": "code",
   "execution_count": 22,
   "id": "7dba7ead-bbb5-440c-bef6-5e130b0e0d95",
   "metadata": {
    "tags": []
   },
   "outputs": [
    {
     "data": {
      "text/plain": [
       "['bedroomcnt', 'bathroomcnt', 'taxvaluedollarcnt', 'fips']"
      ]
     },
     "execution_count": 22,
     "metadata": {},
     "output_type": "execute_result"
    }
   ],
   "source": [
    "# get the columns where their proportions are small\n",
    "auto_drop = [col for col in df.columns if df[col].isna().mean() < 0.001]\n",
    "auto_drop"
   ]
  },
  {
   "cell_type": "code",
   "execution_count": 23,
   "id": "4a4356b3-a58c-403b-b3df-2bdb0fc73483",
   "metadata": {
    "tags": []
   },
   "outputs": [
    {
     "data": {
      "text/html": [
       "<div>\n",
       "<style scoped>\n",
       "    .dataframe tbody tr th:only-of-type {\n",
       "        vertical-align: middle;\n",
       "    }\n",
       "\n",
       "    .dataframe tbody tr th {\n",
       "        vertical-align: top;\n",
       "    }\n",
       "\n",
       "    .dataframe thead th {\n",
       "        text-align: right;\n",
       "    }\n",
       "</style>\n",
       "<table border=\"1\" class=\"dataframe\">\n",
       "  <thead>\n",
       "    <tr style=\"text-align: right;\">\n",
       "      <th></th>\n",
       "      <th>nunique</th>\n",
       "      <th>dtypes</th>\n",
       "      <th>isnull</th>\n",
       "      <th>1177083</th>\n",
       "      <th>count</th>\n",
       "      <th>mean</th>\n",
       "      <th>std</th>\n",
       "      <th>min</th>\n",
       "      <th>25%</th>\n",
       "      <th>50%</th>\n",
       "      <th>75%</th>\n",
       "      <th>max</th>\n",
       "    </tr>\n",
       "  </thead>\n",
       "  <tbody>\n",
       "    <tr>\n",
       "      <th>bedroomcnt</th>\n",
       "      <td>19</td>\n",
       "      <td>float64</td>\n",
       "      <td>0</td>\n",
       "      <td>4.00</td>\n",
       "      <td>2152359.0</td>\n",
       "      <td>3.287807</td>\n",
       "      <td>0.953796</td>\n",
       "      <td>0.00</td>\n",
       "      <td>3.00</td>\n",
       "      <td>3.000</td>\n",
       "      <td>4.00</td>\n",
       "      <td>25.00</td>\n",
       "    </tr>\n",
       "    <tr>\n",
       "      <th>bathroomcnt</th>\n",
       "      <td>38</td>\n",
       "      <td>float64</td>\n",
       "      <td>0</td>\n",
       "      <td>2.00</td>\n",
       "      <td>2152359.0</td>\n",
       "      <td>2.231119</td>\n",
       "      <td>0.998916</td>\n",
       "      <td>0.00</td>\n",
       "      <td>2.00</td>\n",
       "      <td>2.000</td>\n",
       "      <td>3.00</td>\n",
       "      <td>32.00</td>\n",
       "    </tr>\n",
       "    <tr>\n",
       "      <th>calculatedfinishedsquarefeet</th>\n",
       "      <td>10578</td>\n",
       "      <td>float64</td>\n",
       "      <td>8099</td>\n",
       "      <td>2290.00</td>\n",
       "      <td>2144260.0</td>\n",
       "      <td>1862.870784</td>\n",
       "      <td>1222.098248</td>\n",
       "      <td>1.00</td>\n",
       "      <td>1257.00</td>\n",
       "      <td>1623.000</td>\n",
       "      <td>2208.00</td>\n",
       "      <td>952576.00</td>\n",
       "    </tr>\n",
       "    <tr>\n",
       "      <th>taxvaluedollarcnt</th>\n",
       "      <td>592265</td>\n",
       "      <td>float64</td>\n",
       "      <td>0</td>\n",
       "      <td>155371.00</td>\n",
       "      <td>2152359.0</td>\n",
       "      <td>461896.824010</td>\n",
       "      <td>699677.417877</td>\n",
       "      <td>1.00</td>\n",
       "      <td>188171.00</td>\n",
       "      <td>327671.000</td>\n",
       "      <td>534527.00</td>\n",
       "      <td>98428909.00</td>\n",
       "    </tr>\n",
       "    <tr>\n",
       "      <th>yearbuilt</th>\n",
       "      <td>153</td>\n",
       "      <td>float64</td>\n",
       "      <td>8958</td>\n",
       "      <td>1905.00</td>\n",
       "      <td>2143401.0</td>\n",
       "      <td>1960.950824</td>\n",
       "      <td>22.161389</td>\n",
       "      <td>1801.00</td>\n",
       "      <td>1949.00</td>\n",
       "      <td>1958.000</td>\n",
       "      <td>1976.00</td>\n",
       "      <td>2016.00</td>\n",
       "    </tr>\n",
       "    <tr>\n",
       "      <th>taxamount</th>\n",
       "      <td>918821</td>\n",
       "      <td>float64</td>\n",
       "      <td>3971</td>\n",
       "      <td>2092.76</td>\n",
       "      <td>2148388.0</td>\n",
       "      <td>5634.944023</td>\n",
       "      <td>8178.944104</td>\n",
       "      <td>1.85</td>\n",
       "      <td>2535.06</td>\n",
       "      <td>4108.965</td>\n",
       "      <td>6414.36</td>\n",
       "      <td>1337755.86</td>\n",
       "    </tr>\n",
       "    <tr>\n",
       "      <th>fips</th>\n",
       "      <td>3</td>\n",
       "      <td>float64</td>\n",
       "      <td>0</td>\n",
       "      <td>6037.00</td>\n",
       "      <td>2152359.0</td>\n",
       "      <td>6048.374508</td>\n",
       "      <td>20.428394</td>\n",
       "      <td>6037.00</td>\n",
       "      <td>6037.00</td>\n",
       "      <td>6037.000</td>\n",
       "      <td>6059.00</td>\n",
       "      <td>6111.00</td>\n",
       "    </tr>\n",
       "  </tbody>\n",
       "</table>\n",
       "</div>"
      ],
      "text/plain": [
       "                              nunique   dtypes  isnull    1177083      count  \\\n",
       "bedroomcnt                         19  float64       0       4.00  2152359.0   \n",
       "bathroomcnt                        38  float64       0       2.00  2152359.0   \n",
       "calculatedfinishedsquarefeet    10578  float64    8099    2290.00  2144260.0   \n",
       "taxvaluedollarcnt              592265  float64       0  155371.00  2152359.0   \n",
       "yearbuilt                         153  float64    8958    1905.00  2143401.0   \n",
       "taxamount                      918821  float64    3971    2092.76  2148388.0   \n",
       "fips                                3  float64       0    6037.00  2152359.0   \n",
       "\n",
       "                                       mean            std      min  \\\n",
       "bedroomcnt                         3.287807       0.953796     0.00   \n",
       "bathroomcnt                        2.231119       0.998916     0.00   \n",
       "calculatedfinishedsquarefeet    1862.870784    1222.098248     1.00   \n",
       "taxvaluedollarcnt             461896.824010  699677.417877     1.00   \n",
       "yearbuilt                       1960.950824      22.161389  1801.00   \n",
       "taxamount                       5634.944023    8178.944104     1.85   \n",
       "fips                            6048.374508      20.428394  6037.00   \n",
       "\n",
       "                                    25%         50%        75%          max  \n",
       "bedroomcnt                         3.00       3.000       4.00        25.00  \n",
       "bathroomcnt                        2.00       2.000       3.00        32.00  \n",
       "calculatedfinishedsquarefeet    1257.00    1623.000    2208.00    952576.00  \n",
       "taxvaluedollarcnt             188171.00  327671.000  534527.00  98428909.00  \n",
       "yearbuilt                       1949.00    1958.000    1976.00      2016.00  \n",
       "taxamount                       2535.06    4108.965    6414.36   1337755.86  \n",
       "fips                            6037.00    6037.000    6059.00      6111.00  "
      ]
     },
     "execution_count": 23,
     "metadata": {},
     "output_type": "execute_result"
    }
   ],
   "source": [
    "# drop the nulls of these and re-examine the dataset\n",
    "df2 = df.dropna(subset=auto_drop)\n",
    "w.df_info(df2,include=True)"
   ]
  },
  {
   "cell_type": "markdown",
   "id": "b894694e-6c1a-46f1-9442-afec55e99404",
   "metadata": {},
   "source": [
    "From the comparison, the nuniques went from:\n",
    "- calculatedfinishedsquarefeet: 10580 -> 10578 (2 val diff)\n",
    "- taxvaluedollarcnt: 592269 -> 592265 (4 val diff)\n",
    "- taxamount: 918838 -> 918821 (17 val diff)\n",
    "\n",
    "Also the nulls went from:\n",
    "- calculatedfinishedsquarefeet: 8484 -> 8099 (385 diff)\n",
    "- yearbuilt: 9337 -> 8958 (379 diff)\n",
    "- taxamount: 4442 -> 3971 (471 diff)"
   ]
  },
  {
   "cell_type": "markdown",
   "id": "35d11d69-d4e2-47f9-8f76-51ed5a611724",
   "metadata": {},
   "source": [
    "Next let's see about handling that yearbuilt column so we can convert it into an int later."
   ]
  },
  {
   "cell_type": "code",
   "execution_count": 26,
   "id": "21e3a4eb-a8ef-481d-b755-088240717db4",
   "metadata": {
    "tags": []
   },
   "outputs": [
    {
     "data": {
      "text/plain": [
       "1960.9508239475488"
      ]
     },
     "execution_count": 26,
     "metadata": {},
     "output_type": "execute_result"
    }
   ],
   "source": [
    "# maybe we can fill with the average?\n",
    "df2.yearbuilt.mean()"
   ]
  },
  {
   "cell_type": "markdown",
   "id": "2ae8f006-1bc6-40bd-a3be-14b521bc4eb4",
   "metadata": {},
   "source": [
    "Doesn't seem too solid. Plus there is a lot of data. We should be safe just dropping them"
   ]
  },
  {
   "cell_type": "code",
   "execution_count": 28,
   "id": "f256b120-8ba6-49fd-91ba-b4a0b424ae26",
   "metadata": {},
   "outputs": [],
   "source": [
    "df = df.dropna()"
   ]
  },
  {
   "cell_type": "code",
   "execution_count": 29,
   "id": "348cd561-5942-467e-9416-9d977711e3ac",
   "metadata": {
    "tags": []
   },
   "outputs": [
    {
     "data": {
      "text/html": [
       "<div>\n",
       "<style scoped>\n",
       "    .dataframe tbody tr th:only-of-type {\n",
       "        vertical-align: middle;\n",
       "    }\n",
       "\n",
       "    .dataframe tbody tr th {\n",
       "        vertical-align: top;\n",
       "    }\n",
       "\n",
       "    .dataframe thead th {\n",
       "        text-align: right;\n",
       "    }\n",
       "</style>\n",
       "<table border=\"1\" class=\"dataframe\">\n",
       "  <thead>\n",
       "    <tr style=\"text-align: right;\">\n",
       "      <th></th>\n",
       "      <th>nunique</th>\n",
       "      <th>dtypes</th>\n",
       "      <th>isnull</th>\n",
       "      <th>2140364</th>\n",
       "      <th>count</th>\n",
       "      <th>mean</th>\n",
       "      <th>std</th>\n",
       "      <th>min</th>\n",
       "      <th>25%</th>\n",
       "      <th>50%</th>\n",
       "      <th>75%</th>\n",
       "      <th>max</th>\n",
       "    </tr>\n",
       "  </thead>\n",
       "  <tbody>\n",
       "    <tr>\n",
       "      <th>bedroomcnt</th>\n",
       "      <td>19</td>\n",
       "      <td>float64</td>\n",
       "      <td>0</td>\n",
       "      <td>3.00</td>\n",
       "      <td>2140235.0</td>\n",
       "      <td>3.301419</td>\n",
       "      <td>0.932600</td>\n",
       "      <td>0.00</td>\n",
       "      <td>3.00</td>\n",
       "      <td>3.00</td>\n",
       "      <td>4.00</td>\n",
       "      <td>25.00</td>\n",
       "    </tr>\n",
       "    <tr>\n",
       "      <th>bathroomcnt</th>\n",
       "      <td>38</td>\n",
       "      <td>float64</td>\n",
       "      <td>0</td>\n",
       "      <td>2.00</td>\n",
       "      <td>2140235.0</td>\n",
       "      <td>2.240352</td>\n",
       "      <td>0.990549</td>\n",
       "      <td>0.00</td>\n",
       "      <td>2.00</td>\n",
       "      <td>2.00</td>\n",
       "      <td>3.00</td>\n",
       "      <td>32.00</td>\n",
       "    </tr>\n",
       "    <tr>\n",
       "      <th>calculatedfinishedsquarefeet</th>\n",
       "      <td>10557</td>\n",
       "      <td>float64</td>\n",
       "      <td>0</td>\n",
       "      <td>1796.00</td>\n",
       "      <td>2140235.0</td>\n",
       "      <td>1863.193970</td>\n",
       "      <td>1221.754161</td>\n",
       "      <td>1.00</td>\n",
       "      <td>1258.00</td>\n",
       "      <td>1623.00</td>\n",
       "      <td>2208.00</td>\n",
       "      <td>952576.00</td>\n",
       "    </tr>\n",
       "    <tr>\n",
       "      <th>taxvaluedollarcnt</th>\n",
       "      <td>588178</td>\n",
       "      <td>float64</td>\n",
       "      <td>0</td>\n",
       "      <td>67015.00</td>\n",
       "      <td>2140235.0</td>\n",
       "      <td>460641.625164</td>\n",
       "      <td>677157.635675</td>\n",
       "      <td>22.00</td>\n",
       "      <td>189166.00</td>\n",
       "      <td>328296.00</td>\n",
       "      <td>534606.00</td>\n",
       "      <td>90188462.00</td>\n",
       "    </tr>\n",
       "    <tr>\n",
       "      <th>yearbuilt</th>\n",
       "      <td>153</td>\n",
       "      <td>float64</td>\n",
       "      <td>0</td>\n",
       "      <td>1964.00</td>\n",
       "      <td>2140235.0</td>\n",
       "      <td>1960.967545</td>\n",
       "      <td>22.150563</td>\n",
       "      <td>1801.00</td>\n",
       "      <td>1949.00</td>\n",
       "      <td>1958.00</td>\n",
       "      <td>1976.00</td>\n",
       "      <td>2016.00</td>\n",
       "    </tr>\n",
       "    <tr>\n",
       "      <th>taxamount</th>\n",
       "      <td>915868</td>\n",
       "      <td>float64</td>\n",
       "      <td>0</td>\n",
       "      <td>1280.26</td>\n",
       "      <td>2140235.0</td>\n",
       "      <td>5616.711322</td>\n",
       "      <td>7814.562798</td>\n",
       "      <td>6.34</td>\n",
       "      <td>2540.85</td>\n",
       "      <td>4111.47</td>\n",
       "      <td>6411.93</td>\n",
       "      <td>1078101.87</td>\n",
       "    </tr>\n",
       "    <tr>\n",
       "      <th>fips</th>\n",
       "      <td>3</td>\n",
       "      <td>float64</td>\n",
       "      <td>0</td>\n",
       "      <td>6059.00</td>\n",
       "      <td>2140235.0</td>\n",
       "      <td>6048.309556</td>\n",
       "      <td>20.344910</td>\n",
       "      <td>6037.00</td>\n",
       "      <td>6037.00</td>\n",
       "      <td>6037.00</td>\n",
       "      <td>6059.00</td>\n",
       "      <td>6111.00</td>\n",
       "    </tr>\n",
       "  </tbody>\n",
       "</table>\n",
       "</div>"
      ],
      "text/plain": [
       "                              nunique   dtypes  isnull   2140364      count  \\\n",
       "bedroomcnt                         19  float64       0      3.00  2140235.0   \n",
       "bathroomcnt                        38  float64       0      2.00  2140235.0   \n",
       "calculatedfinishedsquarefeet    10557  float64       0   1796.00  2140235.0   \n",
       "taxvaluedollarcnt              588178  float64       0  67015.00  2140235.0   \n",
       "yearbuilt                         153  float64       0   1964.00  2140235.0   \n",
       "taxamount                      915868  float64       0   1280.26  2140235.0   \n",
       "fips                                3  float64       0   6059.00  2140235.0   \n",
       "\n",
       "                                       mean            std      min  \\\n",
       "bedroomcnt                         3.301419       0.932600     0.00   \n",
       "bathroomcnt                        2.240352       0.990549     0.00   \n",
       "calculatedfinishedsquarefeet    1863.193970    1221.754161     1.00   \n",
       "taxvaluedollarcnt             460641.625164  677157.635675    22.00   \n",
       "yearbuilt                       1960.967545      22.150563  1801.00   \n",
       "taxamount                       5616.711322    7814.562798     6.34   \n",
       "fips                            6048.309556      20.344910  6037.00   \n",
       "\n",
       "                                    25%        50%        75%          max  \n",
       "bedroomcnt                         3.00       3.00       4.00        25.00  \n",
       "bathroomcnt                        2.00       2.00       3.00        32.00  \n",
       "calculatedfinishedsquarefeet    1258.00    1623.00    2208.00    952576.00  \n",
       "taxvaluedollarcnt             189166.00  328296.00  534606.00  90188462.00  \n",
       "yearbuilt                       1949.00    1958.00    1976.00      2016.00  \n",
       "taxamount                       2540.85    4111.47    6411.93   1078101.87  \n",
       "fips                            6037.00    6037.00    6059.00      6111.00  "
      ]
     },
     "execution_count": 29,
     "metadata": {},
     "output_type": "execute_result"
    }
   ],
   "source": [
    "w.df_info(df,include=True)"
   ]
  },
  {
   "cell_type": "code",
   "execution_count": 30,
   "id": "59c9895b-90dc-4c7d-9830-9e9d18512b00",
   "metadata": {
    "tags": []
   },
   "outputs": [
    {
     "data": {
      "text/plain": [
       "4           6941.39\n",
       "6          10244.94\n",
       "7           7924.68\n",
       "11            91.60\n",
       "14           255.17\n",
       "             ...   \n",
       "2152856    13877.56\n",
       "2152858    13494.52\n",
       "2152859     6244.16\n",
       "2152861     5302.70\n",
       "2152862     6761.20\n",
       "Name: taxamount, Length: 2140235, dtype: float64"
      ]
     },
     "execution_count": 30,
     "metadata": {},
     "output_type": "execute_result"
    }
   ],
   "source": [
    "# we'll adjust everything to integer later\n",
    "# For now let's see if the dollar amounts would be okay to convert to int as well\n",
    "df.taxamount"
   ]
  },
  {
   "cell_type": "code",
   "execution_count": 31,
   "id": "77a1283d-9ecb-49d8-bb3f-7df3cbbdd46f",
   "metadata": {
    "tags": []
   },
   "outputs": [
    {
     "data": {
      "text/plain": [
       "taxvaluedollarcnt\n",
       "0    2140235\n",
       "Name: count, dtype: int64"
      ]
     },
     "execution_count": 31,
     "metadata": {},
     "output_type": "execute_result"
    }
   ],
   "source": [
    "# do a complicated thing to verify that we're safe to convert to integer for this column\n",
    "# converts the series into string, splits each item into a list,\n",
    "# gets the second item, and then gets all the value counts\n",
    "df.taxvaluedollarcnt.astype(str).str.split('.').str[1].value_counts()"
   ]
  },
  {
   "cell_type": "code",
   "execution_count": 32,
   "id": "f84828a6-4067-444c-a7fa-fc4d26f5c68b",
   "metadata": {
    "tags": []
   },
   "outputs": [
    {
     "name": "stderr",
     "output_type": "stream",
     "text": [
      " 14%|█▍        | 1/7 [00:01<00:08,  1.42s/it]"
     ]
    },
    {
     "name": "stdout",
     "output_type": "stream",
     "text": [
      "bedroomcnt\n",
      "0    2140235\n",
      "Name: count, dtype: int64\n",
      "\n"
     ]
    },
    {
     "name": "stderr",
     "output_type": "stream",
     "text": [
      " 29%|██▊       | 2/7 [00:02<00:07,  1.46s/it]"
     ]
    },
    {
     "name": "stdout",
     "output_type": "stream",
     "text": [
      "bathroomcnt\n",
      "0     1910201\n",
      "5      230031\n",
      "75          3\n",
      "Name: count, dtype: int64\n",
      "\n"
     ]
    },
    {
     "name": "stderr",
     "output_type": "stream",
     "text": [
      " 43%|████▎     | 3/7 [00:04<00:06,  1.59s/it]"
     ]
    },
    {
     "name": "stdout",
     "output_type": "stream",
     "text": [
      "calculatedfinishedsquarefeet\n",
      "0    2140235\n",
      "Name: count, dtype: int64\n",
      "\n"
     ]
    },
    {
     "name": "stderr",
     "output_type": "stream",
     "text": [
      " 57%|█████▋    | 4/7 [00:06<00:04,  1.65s/it]"
     ]
    },
    {
     "name": "stdout",
     "output_type": "stream",
     "text": [
      "taxvaluedollarcnt\n",
      "0    2140235\n",
      "Name: count, dtype: int64\n",
      "\n"
     ]
    },
    {
     "name": "stderr",
     "output_type": "stream",
     "text": [
      " 71%|███████▏  | 5/7 [00:08<00:03,  1.72s/it]"
     ]
    },
    {
     "name": "stdout",
     "output_type": "stream",
     "text": [
      "yearbuilt\n",
      "0    2140235\n",
      "Name: count, dtype: int64\n",
      "\n"
     ]
    },
    {
     "name": "stderr",
     "output_type": "stream",
     "text": [
      " 86%|████████▌ | 6/7 [00:10<00:01,  1.86s/it]"
     ]
    },
    {
     "name": "stdout",
     "output_type": "stream",
     "text": [
      "taxamount\n",
      "24    28892\n",
      "4     28877\n",
      "56    28804\n",
      "7     28795\n",
      "26    28795\n",
      "1     28794\n",
      "8     28745\n",
      "34    28738\n",
      "74    28724\n",
      "14    28703\n",
      "02    28702\n",
      "62    28681\n",
      "94    28650\n",
      "12    28645\n",
      "36    28631\n",
      "08    28630\n",
      "98    28626\n",
      "52    28624\n",
      "92    28617\n",
      "48    28616\n",
      "0     28615\n",
      "82    28604\n",
      "76    28604\n",
      "96    28556\n",
      "44    28540\n",
      "84    28540\n",
      "9     28539\n",
      "72    28531\n",
      "46    28515\n",
      "16    28498\n",
      "28    28494\n",
      "58    28475\n",
      "18    28464\n",
      "04    28444\n",
      "64    28440\n",
      "22    28433\n",
      "2     28428\n",
      "88    28415\n",
      "32    28403\n",
      "78    28389\n",
      "66    28377\n",
      "68    28372\n",
      "86    28355\n",
      "3     28328\n",
      "54    28312\n",
      "38    28306\n",
      "6     28297\n",
      "06    28292\n",
      "5     28258\n",
      "42    28240\n",
      "47    14535\n",
      "51    14491\n",
      "45    14485\n",
      "57    14483\n",
      "83    14468\n",
      "11    14410\n",
      "33    14371\n",
      "49    14348\n",
      "39    14344\n",
      "69    14341\n",
      "35    14326\n",
      "03    14325\n",
      "43    14317\n",
      "63    14310\n",
      "15    14293\n",
      "19    14293\n",
      "27    14283\n",
      "93    14278\n",
      "71    14276\n",
      "29    14266\n",
      "91    14266\n",
      "07    14266\n",
      "41    14264\n",
      "37    14261\n",
      "23    14248\n",
      "77    14238\n",
      "89    14234\n",
      "67    14232\n",
      "09    14228\n",
      "81    14226\n",
      "97    14225\n",
      "17    14223\n",
      "05    14218\n",
      "01    14209\n",
      "21    14203\n",
      "79    14187\n",
      "53    14187\n",
      "55    14183\n",
      "95    14179\n",
      "99    14166\n",
      "59    14160\n",
      "61    14143\n",
      "73    14136\n",
      "13    14135\n",
      "31    14131\n",
      "75    14128\n",
      "65    14119\n",
      "85    14103\n",
      "87    14091\n",
      "25    14050\n",
      "Name: count, dtype: int64\n",
      "\n"
     ]
    },
    {
     "name": "stderr",
     "output_type": "stream",
     "text": [
      "100%|██████████| 7/7 [00:12<00:00,  1.73s/it]"
     ]
    },
    {
     "name": "stdout",
     "output_type": "stream",
     "text": [
      "fips\n",
      "0    2140235\n",
      "Name: count, dtype: int64\n",
      "\n"
     ]
    },
    {
     "name": "stderr",
     "output_type": "stream",
     "text": [
      "\n"
     ]
    }
   ],
   "source": [
    "# automate the above process for the rest of the columns\n",
    "for col in tqdm(df.columns):\n",
    "    print(df[col].astype(str).str.split('.').str[1].value_counts())\n",
    "    print()"
   ]
  },
  {
   "cell_type": "markdown",
   "id": "d590d19d-bc00-44c9-883b-5e1f768fb5fb",
   "metadata": {},
   "source": [
    "From the for loop, apparently taxamount and bathroomcnt have decimals, so they're not safe to convert to int"
   ]
  },
  {
   "cell_type": "code",
   "execution_count": 34,
   "id": "5f0f2ee7-5e9d-4f63-80be-89c1e42c6052",
   "metadata": {
    "tags": []
   },
   "outputs": [
    {
     "data": {
      "text/plain": [
       "['bedroomcnt',\n",
       " 'calculatedfinishedsquarefeet',\n",
       " 'taxvaluedollarcnt',\n",
       " 'yearbuilt',\n",
       " 'fips']"
      ]
     },
     "execution_count": 34,
     "metadata": {},
     "output_type": "execute_result"
    }
   ],
   "source": [
    "# get a list of the cols\n",
    "cols = list(df.columns)\n",
    "cols.remove('taxamount')\n",
    "cols.remove('bathroomcnt')\n",
    "cols"
   ]
  },
  {
   "cell_type": "code",
   "execution_count": 35,
   "id": "6e08057a-7500-49fe-bdfa-d50a981be2f7",
   "metadata": {
    "tags": []
   },
   "outputs": [],
   "source": [
    "# convert columns of this list to integer\n",
    "for col in cols:\n",
    "    df[col] = df[col].astype(int)"
   ]
  },
  {
   "cell_type": "code",
   "execution_count": 36,
   "id": "7afbbdc3-7347-4266-8b33-a900e26068ad",
   "metadata": {
    "tags": []
   },
   "outputs": [
    {
     "data": {
      "text/html": [
       "<div>\n",
       "<style scoped>\n",
       "    .dataframe tbody tr th:only-of-type {\n",
       "        vertical-align: middle;\n",
       "    }\n",
       "\n",
       "    .dataframe tbody tr th {\n",
       "        vertical-align: top;\n",
       "    }\n",
       "\n",
       "    .dataframe thead th {\n",
       "        text-align: right;\n",
       "    }\n",
       "</style>\n",
       "<table border=\"1\" class=\"dataframe\">\n",
       "  <thead>\n",
       "    <tr style=\"text-align: right;\">\n",
       "      <th></th>\n",
       "      <th>nunique</th>\n",
       "      <th>dtypes</th>\n",
       "      <th>isnull</th>\n",
       "      <th>1185699</th>\n",
       "    </tr>\n",
       "  </thead>\n",
       "  <tbody>\n",
       "    <tr>\n",
       "      <th>bedroomcnt</th>\n",
       "      <td>19</td>\n",
       "      <td>int64</td>\n",
       "      <td>0</td>\n",
       "      <td>2.0</td>\n",
       "    </tr>\n",
       "    <tr>\n",
       "      <th>bathroomcnt</th>\n",
       "      <td>38</td>\n",
       "      <td>float64</td>\n",
       "      <td>0</td>\n",
       "      <td>1.0</td>\n",
       "    </tr>\n",
       "    <tr>\n",
       "      <th>calculatedfinishedsquarefeet</th>\n",
       "      <td>10557</td>\n",
       "      <td>int64</td>\n",
       "      <td>0</td>\n",
       "      <td>925.0</td>\n",
       "    </tr>\n",
       "    <tr>\n",
       "      <th>taxvaluedollarcnt</th>\n",
       "      <td>588178</td>\n",
       "      <td>int64</td>\n",
       "      <td>0</td>\n",
       "      <td>368000.0</td>\n",
       "    </tr>\n",
       "    <tr>\n",
       "      <th>yearbuilt</th>\n",
       "      <td>153</td>\n",
       "      <td>int64</td>\n",
       "      <td>0</td>\n",
       "      <td>1942.0</td>\n",
       "    </tr>\n",
       "    <tr>\n",
       "      <th>taxamount</th>\n",
       "      <td>915868</td>\n",
       "      <td>float64</td>\n",
       "      <td>0</td>\n",
       "      <td>4502.6</td>\n",
       "    </tr>\n",
       "    <tr>\n",
       "      <th>fips</th>\n",
       "      <td>3</td>\n",
       "      <td>int64</td>\n",
       "      <td>0</td>\n",
       "      <td>6037.0</td>\n",
       "    </tr>\n",
       "  </tbody>\n",
       "</table>\n",
       "</div>"
      ],
      "text/plain": [
       "                              nunique   dtypes  isnull   1185699\n",
       "bedroomcnt                         19    int64       0       2.0\n",
       "bathroomcnt                        38  float64       0       1.0\n",
       "calculatedfinishedsquarefeet    10557    int64       0     925.0\n",
       "taxvaluedollarcnt              588178    int64       0  368000.0\n",
       "yearbuilt                         153    int64       0    1942.0\n",
       "taxamount                      915868  float64       0    4502.6\n",
       "fips                                3    int64       0    6037.0"
      ]
     },
     "execution_count": 36,
     "metadata": {},
     "output_type": "execute_result"
    }
   ],
   "source": [
    "w.df_info(df)"
   ]
  },
  {
   "cell_type": "code",
   "execution_count": 37,
   "id": "3d780346-b8db-47ee-87e4-3e670293a3a4",
   "metadata": {},
   "outputs": [],
   "source": [
    "def prepare_zillow(df):\n",
    "    \"\"\"\n",
    "    Cleans the zillow DataFrame\n",
    "    \n",
    "    Parameters:\n",
    "    -----------\n",
    "    df: DataFrame\n",
    "        - The zillow DataFrame acquired from Codeup's MySQL database (or from local csv)\n",
    "    \n",
    "    \"\"\"\n",
    "    # re-assign as a copy to fix warnings\n",
    "    df = df.copy()\n",
    "    \n",
    "    # drop the nulls\n",
    "    df = df.dropna()\n",
    "    \n",
    "    # get a list of the cols and drop the two with decimals\n",
    "    cols = list(df.columns)\n",
    "    cols.remove('taxamount')\n",
    "    cols.remove('bathroomcnt')\n",
    "    \n",
    "    # convert columns of this list to integer\n",
    "    for col in cols:\n",
    "        df[col] = df[col].astype(int)\n",
    "    \n",
    "    return df"
   ]
  },
  {
   "cell_type": "code",
   "execution_count": 38,
   "id": "34670920-2b66-43d0-8c99-cd54d32b6748",
   "metadata": {
    "tags": []
   },
   "outputs": [
    {
     "name": "stdout",
     "output_type": "stream",
     "text": [
      "Reading from file...\n"
     ]
    }
   ],
   "source": [
    "# test out 2 functions\n",
    "df = acquire_zillow()"
   ]
  },
  {
   "cell_type": "code",
   "execution_count": 39,
   "id": "1051271e-03d5-4b71-91c6-a7638f60eea8",
   "metadata": {
    "tags": []
   },
   "outputs": [],
   "source": [
    "df = prepare_zillow(df)"
   ]
  },
  {
   "cell_type": "code",
   "execution_count": 40,
   "id": "031c4278-1fe9-4288-8c30-dc42df9dc2fa",
   "metadata": {
    "tags": []
   },
   "outputs": [
    {
     "data": {
      "text/html": [
       "<div>\n",
       "<style scoped>\n",
       "    .dataframe tbody tr th:only-of-type {\n",
       "        vertical-align: middle;\n",
       "    }\n",
       "\n",
       "    .dataframe tbody tr th {\n",
       "        vertical-align: top;\n",
       "    }\n",
       "\n",
       "    .dataframe thead th {\n",
       "        text-align: right;\n",
       "    }\n",
       "</style>\n",
       "<table border=\"1\" class=\"dataframe\">\n",
       "  <thead>\n",
       "    <tr style=\"text-align: right;\">\n",
       "      <th></th>\n",
       "      <th>nunique</th>\n",
       "      <th>dtypes</th>\n",
       "      <th>isnull</th>\n",
       "      <th>1471212</th>\n",
       "    </tr>\n",
       "  </thead>\n",
       "  <tbody>\n",
       "    <tr>\n",
       "      <th>bedroomcnt</th>\n",
       "      <td>19</td>\n",
       "      <td>int64</td>\n",
       "      <td>0</td>\n",
       "      <td>4.00</td>\n",
       "    </tr>\n",
       "    <tr>\n",
       "      <th>bathroomcnt</th>\n",
       "      <td>38</td>\n",
       "      <td>float64</td>\n",
       "      <td>0</td>\n",
       "      <td>2.00</td>\n",
       "    </tr>\n",
       "    <tr>\n",
       "      <th>calculatedfinishedsquarefeet</th>\n",
       "      <td>10557</td>\n",
       "      <td>int64</td>\n",
       "      <td>0</td>\n",
       "      <td>1559.00</td>\n",
       "    </tr>\n",
       "    <tr>\n",
       "      <th>taxvaluedollarcnt</th>\n",
       "      <td>588178</td>\n",
       "      <td>int64</td>\n",
       "      <td>0</td>\n",
       "      <td>430779.00</td>\n",
       "    </tr>\n",
       "    <tr>\n",
       "      <th>yearbuilt</th>\n",
       "      <td>153</td>\n",
       "      <td>int64</td>\n",
       "      <td>0</td>\n",
       "      <td>1962.00</td>\n",
       "    </tr>\n",
       "    <tr>\n",
       "      <th>taxamount</th>\n",
       "      <td>915868</td>\n",
       "      <td>float64</td>\n",
       "      <td>0</td>\n",
       "      <td>5436.13</td>\n",
       "    </tr>\n",
       "    <tr>\n",
       "      <th>fips</th>\n",
       "      <td>3</td>\n",
       "      <td>int64</td>\n",
       "      <td>0</td>\n",
       "      <td>6037.00</td>\n",
       "    </tr>\n",
       "  </tbody>\n",
       "</table>\n",
       "</div>"
      ],
      "text/plain": [
       "                              nunique   dtypes  isnull    1471212\n",
       "bedroomcnt                         19    int64       0       4.00\n",
       "bathroomcnt                        38  float64       0       2.00\n",
       "calculatedfinishedsquarefeet    10557    int64       0    1559.00\n",
       "taxvaluedollarcnt              588178    int64       0  430779.00\n",
       "yearbuilt                         153    int64       0    1962.00\n",
       "taxamount                      915868  float64       0    5436.13\n",
       "fips                                3    int64       0    6037.00"
      ]
     },
     "execution_count": 40,
     "metadata": {},
     "output_type": "execute_result"
    }
   ],
   "source": [
    "w.df_info(df)"
   ]
  },
  {
   "cell_type": "code",
   "execution_count": 41,
   "id": "8a216483-0b2d-4de9-a947-74b3ec943c1c",
   "metadata": {
    "tags": []
   },
   "outputs": [],
   "source": [
    "write_contents.append('''\n",
    "def prepare_zillow(df):\n",
    "    \"\"\"\n",
    "    Cleans the zillow DataFrame\n",
    "    \n",
    "    Parameters:\n",
    "    -----------\n",
    "    df: DataFrame\n",
    "        - The zillow DataFrame acquired from Codeup's MySQL database (or from local csv)\n",
    "    \n",
    "    \"\"\"\n",
    "    # re-assign as a copy to fix warnings\n",
    "    df = df.copy()\n",
    "    \n",
    "    # drop the nulls\n",
    "    df = df.dropna()\n",
    "    \n",
    "    # get a list of the cols and drop the two with decimals\n",
    "    cols = list(df.columns)\n",
    "    cols.remove('taxamount')\n",
    "    cols.remove('bathroomcnt')\n",
    "    cols.remove('propertylandusedesc')\n",
    "    \n",
    "    # convert columns of this list to integer\n",
    "    for col in cols:\n",
    "        df[col] = df[col].astype(int)\n",
    "    \n",
    "    return df\n",
    "''')"
   ]
  },
  {
   "cell_type": "markdown",
   "id": "eaa2da60-6012-41e2-8c9c-dd208e206244",
   "metadata": {},
   "source": [
    "3. [x] Write a function to split your data into train, validate, and test."
   ]
  },
  {
   "cell_type": "code",
   "execution_count": 43,
   "id": "7128fe1c-4d88-493f-adf4-fd78d6352760",
   "metadata": {
    "tags": []
   },
   "outputs": [],
   "source": [
    "from sklearn.model_selection import train_test_split"
   ]
  },
  {
   "cell_type": "code",
   "execution_count": 44,
   "id": "8709452f-77ec-4e21-a0cb-63464070be41",
   "metadata": {
    "tags": []
   },
   "outputs": [],
   "source": [
    "# importing function previously made\n",
    "def split_df(df,strat_var,seed=123):\n",
    "    \"\"\"\n",
    "    Returns three dataframes split from one for use in model training, validation, and testing. Takes two arguments:\n",
    "        df: any dataframe to be split\n",
    "        strat_var: the value to stratify on. This value should be a categorical variable.\n",
    "    \n",
    "    Function performs two splits, first to primarily make the training set, and the second to make the validate and test sets.\n",
    "    \"\"\"\n",
    "    # Run first split\n",
    "    train, validate_test = train_test_split(df,\n",
    "                 train_size=0.60,\n",
    "                random_state=seed,\n",
    "                 stratify=df[strat_var]\n",
    "                )\n",
    "    \n",
    "    # Run second split\n",
    "    validate, test = train_test_split(validate_test,\n",
    "                test_size=0.50,\n",
    "                 random_state=seed,\n",
    "                 stratify=validate_test[strat_var]\n",
    "                )\n",
    "    \n",
    "    return train, validate, test"
   ]
  },
  {
   "cell_type": "code",
   "execution_count": 45,
   "id": "461e57fb-b433-4078-b8b5-64faefcefddc",
   "metadata": {
    "tags": []
   },
   "outputs": [],
   "source": [
    "# this yields an error\n",
    "# train,validate,test = split_df(df,'taxvaluedollarcnt')"
   ]
  },
  {
   "cell_type": "code",
   "execution_count": 46,
   "id": "442a9f7f-94d6-4925-b116-e49a2f421659",
   "metadata": {
    "tags": []
   },
   "outputs": [],
   "source": [
    "train, validate_test = train_test_split(\n",
    "    df,\n",
    "    train_size = 0.6,\n",
    "    random_state = 123\n",
    ")"
   ]
  },
  {
   "cell_type": "code",
   "execution_count": 47,
   "id": "5b4fc4ac-cce6-435a-8b2e-0600d713bded",
   "metadata": {
    "tags": []
   },
   "outputs": [
    {
     "data": {
      "text/plain": [
       "(1284141, 7)"
      ]
     },
     "execution_count": 47,
     "metadata": {},
     "output_type": "execute_result"
    }
   ],
   "source": [
    "train.shape"
   ]
  },
  {
   "cell_type": "code",
   "execution_count": 48,
   "id": "a5595708-2fa8-48a2-bb6d-3f7fb2dc373d",
   "metadata": {
    "tags": []
   },
   "outputs": [
    {
     "data": {
      "text/plain": [
       "(856094, 7)"
      ]
     },
     "execution_count": 48,
     "metadata": {},
     "output_type": "execute_result"
    }
   ],
   "source": [
    "validate_test.shape"
   ]
  },
  {
   "cell_type": "code",
   "execution_count": 49,
   "id": "43bfa32b-ad91-4cc7-a2df-c731cf20acf8",
   "metadata": {
    "tags": []
   },
   "outputs": [],
   "source": [
    "validate, test = train_test_split(\n",
    "    df,\n",
    "    train_size = 0.5,\n",
    "    random_state = 123\n",
    ")"
   ]
  },
  {
   "cell_type": "code",
   "execution_count": 50,
   "id": "a7e9e481-7211-4492-b2e6-164026826ece",
   "metadata": {
    "tags": []
   },
   "outputs": [],
   "source": [
    "def split_continuous(df,seed=123):\n",
    "    \"\"\"\n",
    "    Returns three dataframes split from one for use in model training, validation, and testing. \n",
    "    \n",
    "    Function performs two splits, first to primarily make the training set, and the second to make the validate and test sets.\n",
    "    \n",
    "    Parameters:\n",
    "    -----------\n",
    "    df: DataFrame\n",
    "        - the prepared dataset to be split\n",
    "    seed: int, defaut=123\n",
    "        - optional, a seed value to maintain consistency\n",
    "    \"\"\"\n",
    "    # run first split\n",
    "    train, validate_test = train_test_split(\n",
    "        df,\n",
    "        train_size = 0.6,\n",
    "        random_state = 123\n",
    "    )\n",
    "    \n",
    "    # run second split\n",
    "    validate, test = train_test_split(\n",
    "        df,\n",
    "        train_size = 0.5,\n",
    "        random_state = 123\n",
    "    )\n",
    "    \n",
    "    return train,validate,test"
   ]
  },
  {
   "cell_type": "code",
   "execution_count": 51,
   "id": "4d540fd1-b4ac-4cb6-ac21-352a6bbb3f9d",
   "metadata": {
    "tags": []
   },
   "outputs": [],
   "source": [
    "train,validate,test = split_continuous(df)"
   ]
  },
  {
   "cell_type": "code",
   "execution_count": 52,
   "id": "97c28ef5-7140-46d4-8509-57ddb5d293dd",
   "metadata": {
    "tags": []
   },
   "outputs": [
    {
     "data": {
      "text/html": [
       "<div>\n",
       "<style scoped>\n",
       "    .dataframe tbody tr th:only-of-type {\n",
       "        vertical-align: middle;\n",
       "    }\n",
       "\n",
       "    .dataframe tbody tr th {\n",
       "        vertical-align: top;\n",
       "    }\n",
       "\n",
       "    .dataframe thead th {\n",
       "        text-align: right;\n",
       "    }\n",
       "</style>\n",
       "<table border=\"1\" class=\"dataframe\">\n",
       "  <thead>\n",
       "    <tr style=\"text-align: right;\">\n",
       "      <th></th>\n",
       "      <th>bedroomcnt</th>\n",
       "      <th>bathroomcnt</th>\n",
       "      <th>calculatedfinishedsquarefeet</th>\n",
       "      <th>taxvaluedollarcnt</th>\n",
       "      <th>yearbuilt</th>\n",
       "      <th>taxamount</th>\n",
       "      <th>fips</th>\n",
       "    </tr>\n",
       "  </thead>\n",
       "  <tbody>\n",
       "    <tr>\n",
       "      <th>462820</th>\n",
       "      <td>5</td>\n",
       "      <td>4.0</td>\n",
       "      <td>3011</td>\n",
       "      <td>710674</td>\n",
       "      <td>2005</td>\n",
       "      <td>7561.14</td>\n",
       "      <td>6111</td>\n",
       "    </tr>\n",
       "    <tr>\n",
       "      <th>3880</th>\n",
       "      <td>3</td>\n",
       "      <td>2.0</td>\n",
       "      <td>1682</td>\n",
       "      <td>603333</td>\n",
       "      <td>1961</td>\n",
       "      <td>7086.19</td>\n",
       "      <td>6037</td>\n",
       "    </tr>\n",
       "    <tr>\n",
       "      <th>992263</th>\n",
       "      <td>4</td>\n",
       "      <td>2.0</td>\n",
       "      <td>1433</td>\n",
       "      <td>82804</td>\n",
       "      <td>1954</td>\n",
       "      <td>1134.83</td>\n",
       "      <td>6037</td>\n",
       "    </tr>\n",
       "    <tr>\n",
       "      <th>311722</th>\n",
       "      <td>3</td>\n",
       "      <td>2.5</td>\n",
       "      <td>2001</td>\n",
       "      <td>355444</td>\n",
       "      <td>1999</td>\n",
       "      <td>4174.92</td>\n",
       "      <td>6111</td>\n",
       "    </tr>\n",
       "    <tr>\n",
       "      <th>787985</th>\n",
       "      <td>4</td>\n",
       "      <td>2.0</td>\n",
       "      <td>2277</td>\n",
       "      <td>571000</td>\n",
       "      <td>1962</td>\n",
       "      <td>7113.02</td>\n",
       "      <td>6037</td>\n",
       "    </tr>\n",
       "  </tbody>\n",
       "</table>\n",
       "</div>"
      ],
      "text/plain": [
       "        bedroomcnt  bathroomcnt  calculatedfinishedsquarefeet  \\\n",
       "462820           5          4.0                          3011   \n",
       "3880             3          2.0                          1682   \n",
       "992263           4          2.0                          1433   \n",
       "311722           3          2.5                          2001   \n",
       "787985           4          2.0                          2277   \n",
       "\n",
       "        taxvaluedollarcnt  yearbuilt  taxamount  fips  \n",
       "462820             710674       2005    7561.14  6111  \n",
       "3880               603333       1961    7086.19  6037  \n",
       "992263              82804       1954    1134.83  6037  \n",
       "311722             355444       1999    4174.92  6111  \n",
       "787985             571000       1962    7113.02  6037  "
      ]
     },
     "execution_count": 52,
     "metadata": {},
     "output_type": "execute_result"
    }
   ],
   "source": [
    "train.head()"
   ]
  },
  {
   "cell_type": "code",
   "execution_count": 53,
   "id": "e6df9cb4-a8f8-40c5-9fa9-bf0950530abf",
   "metadata": {
    "tags": []
   },
   "outputs": [],
   "source": [
    "write_contents.append('''\n",
    "def split_continuous(df,seed=123):\n",
    "    \"\"\"\n",
    "    Returns three dataframes split from one for use in model training, validation, and testing. \n",
    "    \n",
    "    Function performs two splits, first to primarily make the training set, and the second to make the validate and test sets.\n",
    "    \n",
    "    Parameters:\n",
    "    -----------\n",
    "    df: DataFrame\n",
    "        - the prepared dataset to be split\n",
    "    seed: int, defaut=123\n",
    "        - optional, a seed value to maintain consistency\n",
    "    \"\"\"\n",
    "    # run first split\n",
    "    train, validate_test = train_test_split(\n",
    "        df,\n",
    "        train_size = 0.6,\n",
    "        random_state = 123\n",
    "    )\n",
    "    \n",
    "    # run second split\n",
    "    validate, test = train_test_split(\n",
    "        df,\n",
    "        train_size = 0.5,\n",
    "        random_state = 123\n",
    "    )\n",
    "    \n",
    "    return train,validate,test\n",
    "''')"
   ]
  },
  {
   "cell_type": "markdown",
   "id": "357f3ce1-5eda-4848-bd3a-08125334178c",
   "metadata": {},
   "source": [
    "4. [x] Store all of the necessary functions to automate your process from acquiring the data to returning a cleaned dataframe with no missing values in your `wrangle.py` file. Name your final function `wrangle_zillow`."
   ]
  },
  {
   "cell_type": "code",
   "execution_count": 55,
   "id": "76f76d77-5c7d-4f5f-8710-f4cb60ca5349",
   "metadata": {
    "tags": []
   },
   "outputs": [],
   "source": [
    "def wrangle_zillow():\n",
    "    \"\"\"\n",
    "    Acquires, prepares, and splits the zillow dataset.\n",
    "    \n",
    "    Parameters:\n",
    "    -----------\n",
    "    none\n",
    "    \n",
    "    \n",
    "    \"\"\"\n",
    "    \n",
    "    # acquire the data\n",
    "    zillow = acquire_zillow()\n",
    "    \n",
    "    # prepare the data\n",
    "    zillow = prepare_zillow(zillow)\n",
    "    \n",
    "    # split the data\n",
    "    train,validate,test = split_continuous(zillow)\n",
    "    \n",
    "    return train,validate,test"
   ]
  },
  {
   "cell_type": "code",
   "execution_count": 56,
   "id": "605e596f-8167-4282-8958-41d93f5bcc1c",
   "metadata": {
    "tags": []
   },
   "outputs": [
    {
     "data": {
      "text/plain": [
       "[]"
      ]
     },
     "execution_count": 56,
     "metadata": {},
     "output_type": "execute_result"
    }
   ],
   "source": [
    "# wipe df clean\n",
    "df = []\n",
    "df"
   ]
  },
  {
   "cell_type": "code",
   "execution_count": 57,
   "id": "2780a69e-5fd3-40c1-9c0c-69a79100f44a",
   "metadata": {
    "tags": []
   },
   "outputs": [
    {
     "data": {
      "text/plain": [
       "[]"
      ]
     },
     "execution_count": 57,
     "metadata": {},
     "output_type": "execute_result"
    }
   ],
   "source": [
    "train = []\n",
    "train"
   ]
  },
  {
   "cell_type": "code",
   "execution_count": 58,
   "id": "2d68c2d3-54c8-4b4d-ace8-6fd7d80341d2",
   "metadata": {
    "tags": []
   },
   "outputs": [
    {
     "name": "stdout",
     "output_type": "stream",
     "text": [
      "Reading from file...\n"
     ]
    }
   ],
   "source": [
    "tvt_set = train,validate,test = wrangle_zillow()"
   ]
  },
  {
   "cell_type": "code",
   "execution_count": 59,
   "id": "faac1b35-51fe-4519-8e13-3a4353fc1a38",
   "metadata": {
    "tags": []
   },
   "outputs": [
    {
     "data": {
      "text/html": [
       "<div>\n",
       "<style scoped>\n",
       "    .dataframe tbody tr th:only-of-type {\n",
       "        vertical-align: middle;\n",
       "    }\n",
       "\n",
       "    .dataframe tbody tr th {\n",
       "        vertical-align: top;\n",
       "    }\n",
       "\n",
       "    .dataframe thead th {\n",
       "        text-align: right;\n",
       "    }\n",
       "</style>\n",
       "<table border=\"1\" class=\"dataframe\">\n",
       "  <thead>\n",
       "    <tr style=\"text-align: right;\">\n",
       "      <th></th>\n",
       "      <th>nunique</th>\n",
       "      <th>dtypes</th>\n",
       "      <th>isnull</th>\n",
       "      <th>766875</th>\n",
       "    </tr>\n",
       "  </thead>\n",
       "  <tbody>\n",
       "    <tr>\n",
       "      <th>bedroomcnt</th>\n",
       "      <td>17</td>\n",
       "      <td>int64</td>\n",
       "      <td>0</td>\n",
       "      <td>3.00</td>\n",
       "    </tr>\n",
       "    <tr>\n",
       "      <th>bathroomcnt</th>\n",
       "      <td>37</td>\n",
       "      <td>float64</td>\n",
       "      <td>0</td>\n",
       "      <td>2.00</td>\n",
       "    </tr>\n",
       "    <tr>\n",
       "      <th>calculatedfinishedsquarefeet</th>\n",
       "      <td>9540</td>\n",
       "      <td>int64</td>\n",
       "      <td>0</td>\n",
       "      <td>1350.00</td>\n",
       "    </tr>\n",
       "    <tr>\n",
       "      <th>taxvaluedollarcnt</th>\n",
       "      <td>446402</td>\n",
       "      <td>int64</td>\n",
       "      <td>0</td>\n",
       "      <td>103146.00</td>\n",
       "    </tr>\n",
       "    <tr>\n",
       "      <th>yearbuilt</th>\n",
       "      <td>149</td>\n",
       "      <td>int64</td>\n",
       "      <td>0</td>\n",
       "      <td>1989.00</td>\n",
       "    </tr>\n",
       "    <tr>\n",
       "      <th>taxamount</th>\n",
       "      <td>707961</td>\n",
       "      <td>float64</td>\n",
       "      <td>0</td>\n",
       "      <td>2089.89</td>\n",
       "    </tr>\n",
       "    <tr>\n",
       "      <th>fips</th>\n",
       "      <td>3</td>\n",
       "      <td>int64</td>\n",
       "      <td>0</td>\n",
       "      <td>6037.00</td>\n",
       "    </tr>\n",
       "  </tbody>\n",
       "</table>\n",
       "</div>"
      ],
      "text/plain": [
       "                              nunique   dtypes  isnull     766875\n",
       "bedroomcnt                         17    int64       0       3.00\n",
       "bathroomcnt                        37  float64       0       2.00\n",
       "calculatedfinishedsquarefeet     9540    int64       0    1350.00\n",
       "taxvaluedollarcnt              446402    int64       0  103146.00\n",
       "yearbuilt                         149    int64       0    1989.00\n",
       "taxamount                      707961  float64       0    2089.89\n",
       "fips                                3    int64       0    6037.00"
      ]
     },
     "execution_count": 59,
     "metadata": {},
     "output_type": "execute_result"
    }
   ],
   "source": [
    "w.df_info(train)"
   ]
  },
  {
   "cell_type": "code",
   "execution_count": 60,
   "id": "88715ad0-1e92-4cf8-99fa-13375c8ed78a",
   "metadata": {
    "tags": []
   },
   "outputs": [],
   "source": [
    "write_contents.append('''\n",
    "def wrangle_zillow():\n",
    "    \"\"\"\n",
    "    Acquires, prepares, and splits the zillow dataset.\n",
    "    \n",
    "    Parameters:\n",
    "    -----------\n",
    "    none\n",
    "    \n",
    "    \n",
    "    \"\"\"\n",
    "    \n",
    "    # acquire the data\n",
    "    zillow = acquire_zillow()\n",
    "    \n",
    "    # prepare the data\n",
    "    zillow = prepare_zillow(zillow)\n",
    "    \n",
    "    # split the data\n",
    "    train,validate,test = split_continuous(zillow)\n",
    "    \n",
    "    return train,validate,test\n",
    "''')"
   ]
  },
  {
   "cell_type": "code",
   "execution_count": 61,
   "id": "a012a33f-9b6f-43ed-b34d-d2493d5bc30a",
   "metadata": {
    "tags": []
   },
   "outputs": [],
   "source": [
    "# save all the functions made to wrangle.py\n",
    "with open('wrangle.py','a') as file:\n",
    "    for content in write_contents:\n",
    "        file.write(content + '\\n')"
   ]
  },
  {
   "cell_type": "code",
   "execution_count": null,
   "id": "f213a556-c95d-4198-9390-c72d5f326910",
   "metadata": {},
   "outputs": [],
   "source": []
  }
 ],
 "metadata": {
  "kernelspec": {
   "display_name": "Python 3 (ipykernel)",
   "language": "python",
   "name": "python3"
  },
  "language_info": {
   "codemirror_mode": {
    "name": "ipython",
    "version": 3
   },
   "file_extension": ".py",
   "mimetype": "text/x-python",
   "name": "python",
   "nbconvert_exporter": "python",
   "pygments_lexer": "ipython3",
   "version": "3.11.5"
  }
 },
 "nbformat": 4,
 "nbformat_minor": 5
}
