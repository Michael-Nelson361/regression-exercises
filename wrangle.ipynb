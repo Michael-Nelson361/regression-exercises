{
 "cells": [
  {
   "cell_type": "markdown",
   "id": "0e9504f4-5478-41a0-8b9b-e1b0593139e5",
   "metadata": {},
   "source": [
    "Let's set up an example scenario as perspective for our regression exercises using the Zillow dataset.\n",
    "\n",
    "As a Codeup data science graduate, you want to show off your skills to the Zillow data science team in hopes of getting an interview for a position you saw pop up on LinkedIn. You thought it might look impressive to build an end-to-end project in which you use some of their Kaggle data to predict property values using some of their available features; who knows, you might even do some feature engineering to blow them away. Your goal is to predict the values of single unit properties using the observations from 2017.\n",
    "\n",
    "In these exercises, you will complete the first step toward the above goal: acquire and prepare the necessary Zillow data from the zillow database in the Codeup database server."
   ]
  },
  {
   "cell_type": "code",
   "execution_count": 20,
   "id": "ce44ab0c-dbf8-4869-9a17-63fe4943697c",
   "metadata": {
    "tags": []
   },
   "outputs": [],
   "source": [
    "# import necessary libraries\n",
    "import pandas as pd\n",
    "import numpy as np\n",
    "\n",
    "# import personal env to build wranlge file\n",
    "from env import deploy_wrangle"
   ]
  },
  {
   "cell_type": "code",
   "execution_count": 22,
   "id": "8636cec9-3160-4155-a94e-96d0506d52da",
   "metadata": {
    "tags": []
   },
   "outputs": [],
   "source": [
    "# Use personally developed function to create a wrangle.py file\n",
    "deploy_wrangle()"
   ]
  },
  {
   "cell_type": "markdown",
   "id": "b44522fc-97f8-4683-bd48-bc4538681c2b",
   "metadata": {},
   "source": [
    "1. [ ] Acquire `bedroomcnt`, `bathroomcnt`, `calculatedfinishedsquarefeet`, `taxvaluedollarcnt`, `yearbuilt`, `taxamount`, and `fips` from the `zillow` database for all 'Single Family Residential' properties."
   ]
  },
  {
   "cell_type": "markdown",
   "id": "598f0b7b-24a9-4d3b-96cc-7509a724b998",
   "metadata": {
    "tags": []
   },
   "source": [
    "- [x] Use MySQL Workbench to isolate the necessary dataset"
   ]
  },
  {
   "cell_type": "code",
   "execution_count": 15,
   "id": "75d333a9-c150-40ef-8619-e1f5de3aa53a",
   "metadata": {
    "tags": []
   },
   "outputs": [],
   "source": [
    "query = \"\"\"\n",
    "select bedroomcnt, bathroomcnt, calculatedfinishedsquarefeet, taxvaluedollarcnt, yearbuilt, taxamount, fips\n",
    "from propertylandusetype\n",
    "\tjoin properties_2017\n",
    "\t\tusing (propertylandusetypeid)\n",
    "WHERE propertylandusedesc = (\"Single Family Residential\")\n",
    "\"\"\""
   ]
  },
  {
   "cell_type": "code",
   "execution_count": null,
   "id": "5141a065-cd2e-4157-88bc-bc99fffda416",
   "metadata": {},
   "outputs": [],
   "source": []
  },
  {
   "cell_type": "markdown",
   "id": "55dd10a4-0035-49bc-a202-e7563224e787",
   "metadata": {},
   "source": [
    "2. [ ] Using your acquired Zillow data, walk through the summarization and cleaning steps in your `wrangle.ipynb` file like we did above. You may handle the missing values however you feel is appropriate and meaningful; remember to document your process and decisions using markdown and code commenting where helpful."
   ]
  },
  {
   "cell_type": "markdown",
   "id": "eaa2da60-6012-41e2-8c9c-dd208e206244",
   "metadata": {},
   "source": [
    "3. [ ] Write a function to split your data into train, validate, and test."
   ]
  },
  {
   "cell_type": "markdown",
   "id": "357f3ce1-5eda-4848-bd3a-08125334178c",
   "metadata": {},
   "source": [
    "4. [ ] Store all of the necessary functions to automate your process from acquiring the data to returning a cleaned dataframe with no missing values in your `wrangle.py` file. Name your final function `wrangle_zillow`."
   ]
  },
  {
   "cell_type": "code",
   "execution_count": null,
   "id": "76f76d77-5c7d-4f5f-8710-f4cb60ca5349",
   "metadata": {},
   "outputs": [],
   "source": []
  }
 ],
 "metadata": {
  "kernelspec": {
   "display_name": "Python 3 (ipykernel)",
   "language": "python",
   "name": "python3"
  },
  "language_info": {
   "codemirror_mode": {
    "name": "ipython",
    "version": 3
   },
   "file_extension": ".py",
   "mimetype": "text/x-python",
   "name": "python",
   "nbconvert_exporter": "python",
   "pygments_lexer": "ipython3",
   "version": "3.11.5"
  }
 },
 "nbformat": 4,
 "nbformat_minor": 5
}
